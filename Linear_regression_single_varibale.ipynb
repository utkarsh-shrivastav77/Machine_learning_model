{
  "nbformat": 4,
  "nbformat_minor": 0,
  "metadata": {
    "colab": {
      "provenance": [],
      "authorship_tag": "ABX9TyMfA+TQPTZXo9PVRTE5b/Oi",
      "include_colab_link": true
    },
    "kernelspec": {
      "name": "python3",
      "display_name": "Python 3"
    },
    "language_info": {
      "name": "python"
    }
  },
  "cells": [
    {
      "cell_type": "markdown",
      "metadata": {
        "id": "view-in-github",
        "colab_type": "text"
      },
      "source": [
        "<a href=\"https://colab.research.google.com/github/utkarsh-shrivastav77/Machine_learning_model/blob/master/Linear_regression_single_varibale.ipynb\" target=\"_parent\"><img src=\"https://colab.research.google.com/assets/colab-badge.svg\" alt=\"Open In Colab\"/></a>"
      ]
    },
    {
      "cell_type": "markdown",
      "source": [],
      "metadata": {
        "id": "5bqQiEfyltlS"
      }
    },
    {
      "cell_type": "code",
      "source": [
        "import numpy as np\n"
      ],
      "metadata": {
        "id": "WvOttn_dYiE6"
      },
      "execution_count": 2,
      "outputs": []
    },
    {
      "cell_type": "code",
      "source": [
        "data = np.loadtxt(\"train.csv\", delimiter=\",\")\n",
        "X_train = data[:,0].reshape(-1,1)\n",
        "Y_train = data[:,1]\n",
        "test = np.loadtxt(\"test.csv\", delimiter = \",\")\n",
        "X_test = test[:,0].reshape(-1,1)\n",
        "Y_test = test[:,1]\n",
        "print(X_test.shape)"
      ],
      "metadata": {
        "colab": {
          "base_uri": "https://localhost:8080/"
        },
        "id": "wgqSA-XbZXVP",
        "outputId": "681090f2-08fd-4aea-98de-fa2a4ac63ff6"
      },
      "execution_count": 21,
      "outputs": [
        {
          "output_type": "stream",
          "name": "stdout",
          "text": [
            "(111, 1)\n"
          ]
        }
      ]
    },
    {
      "cell_type": "code",
      "source": [
        "def fit(X_train, Y_train):\n",
        "    num = (X_train * Y_train).mean() - X_train.mean() * Y_train.mean()\n",
        "    den = (X_train ** 2).mean() - X_train.mean() ** 2\n",
        "    m = num / den\n",
        "    c = Y_train.mean() - m * X_train.mean()\n",
        "    return m, c"
      ],
      "metadata": {
        "id": "rx1bnbtXaIOU"
      },
      "execution_count": 22,
      "outputs": []
    },
    {
      "cell_type": "code",
      "source": [
        "def predict(x, m, c):\n",
        "    return m * x + c\n",
        "\n",
        "def score(y_truth, y_pred):\n",
        "    u = ((y_truth - y_pred) ** 2).sum()\n",
        "    v = ((y_truth - y_truth.mean()) ** 2).sum()\n",
        "    return 1 - u / v\n",
        "\n",
        "def cost(x,y,m,c):\n",
        "  return (y - (m*x +c))**2"
      ],
      "metadata": {
        "id": "Oo3V3KaSd0iJ"
      },
      "execution_count": 24,
      "outputs": []
    },
    {
      "cell_type": "code",
      "source": [
        "m,c = fit(X_train, Y_train)\n",
        "#test data\n",
        "y_test_pred = predict(X_test,m,c)\n",
        "print(\"Test Score: \", score(Y_test, y_test_pred))\n",
        "\n",
        "#train data\n",
        "y_train_pred = predict(X_train, m, c)\n",
        "print(\"Test Score: \", score(Y_train, y_train_pred))\n",
        "print(\"M C \",m,c)"
      ],
      "metadata": {
        "colab": {
          "base_uri": "https://localhost:8080/"
        },
        "id": "XOUVNKcncjOE",
        "outputId": "2c5e189f-23ba-4ad6-f360-24a495f01bac"
      },
      "execution_count": 23,
      "outputs": [
        {
          "output_type": "stream",
          "name": "stdout",
          "text": [
            "Test Score:  -110.06644400619902\n",
            "Test Score:  -330.0\n",
            "M C  -2.3231984429887775e-18 -0.0002925419208609428\n"
          ]
        }
      ]
    },
    {
      "cell_type": "code",
      "source": [],
      "metadata": {
        "id": "9LrpQuihqjzJ"
      },
      "execution_count": null,
      "outputs": []
    }
  ]
}